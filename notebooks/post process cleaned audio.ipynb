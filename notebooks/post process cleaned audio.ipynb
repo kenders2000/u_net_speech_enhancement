{
 "cells": [
  {
   "cell_type": "code",
   "execution_count": 17,
   "id": "81fe27a5",
   "metadata": {},
   "outputs": [
    {
     "name": "stderr",
     "output_type": "stream",
     "text": [
      "  0%|          | 0/1 [00:00<?, ?it/s]\n"
     ]
    },
    {
     "ename": "IndexError",
     "evalue": "list index out of range",
     "output_type": "error",
     "traceback": [
      "\u001b[0;31m---------------------------------------------------------------------------\u001b[0m",
      "\u001b[0;31mIndexError\u001b[0m                                Traceback (most recent call last)",
      "\u001b[0;32m<ipython-input-17-9016b6b1669f>\u001b[0m in \u001b[0;36m<module>\u001b[0;34m\u001b[0m\n\u001b[1;32m     58\u001b[0m                 ],\n\u001b[1;32m     59\u001b[0m                 outfile_name=(\n\u001b[0;32m---> 60\u001b[0;31m                     \u001b[0;34mf\"{output_path}/{scene['scene']}_{listener['name']}_HA-output.wav\"\u001b[0m\u001b[0;34m\u001b[0m\u001b[0;34m\u001b[0m\u001b[0m\n\u001b[0m\u001b[1;32m     61\u001b[0m                 ),\n\u001b[1;32m     62\u001b[0m             )\n",
      "\u001b[0;32m~/clarity_CEC1/projects/GHA/GHA/hearing_aid_interface.py\u001b[0m in \u001b[0;36mprocess_files\u001b[0;34m(self, infile_names, outfile_name)\u001b[0m\n\u001b[1;32m     82\u001b[0m         \u001b[0mos\u001b[0m\u001b[0;34m.\u001b[0m\u001b[0mclose\u001b[0m\u001b[0;34m(\u001b[0m\u001b[0mfd_merged\u001b[0m\u001b[0;34m)\u001b[0m\u001b[0;34m\u001b[0m\u001b[0;34m\u001b[0m\u001b[0m\n\u001b[1;32m     83\u001b[0m \u001b[0;34m\u001b[0m\u001b[0m\n\u001b[0;32m---> 84\u001b[0;31m         \u001b[0mccs\u001b[0m\u001b[0;34m.\u001b[0m\u001b[0mcreate_HA_inputs\u001b[0m\u001b[0;34m(\u001b[0m\u001b[0minfile_names\u001b[0m\u001b[0;34m,\u001b[0m \u001b[0mmerged_filename\u001b[0m\u001b[0;34m)\u001b[0m\u001b[0;34m\u001b[0m\u001b[0;34m\u001b[0m\u001b[0m\n\u001b[0m\u001b[1;32m     85\u001b[0m \u001b[0;34m\u001b[0m\u001b[0m\n\u001b[1;32m     86\u001b[0m         \u001b[0;31m# Create the openMHA config file from the template\u001b[0m\u001b[0;34m\u001b[0m\u001b[0;34m\u001b[0m\u001b[0;34m\u001b[0m\u001b[0m\n",
      "\u001b[0;32m~/clarity_CEC1/lib/clarity_core/clarity_core/signal.py\u001b[0m in \u001b[0;36mcreate_HA_inputs\u001b[0;34m(infile_names, merged_filename)\u001b[0m\n\u001b[1;32m    227\u001b[0m     \u001b[0;34m\"\"\"Create input signal for baseline hearing aids.\"\"\"\u001b[0m\u001b[0;34m\u001b[0m\u001b[0;34m\u001b[0m\u001b[0m\n\u001b[1;32m    228\u001b[0m \u001b[0;34m\u001b[0m\u001b[0m\n\u001b[0;32m--> 229\u001b[0;31m     \u001b[0;32mif\u001b[0m \u001b[0;34m(\u001b[0m\u001b[0minfile_names\u001b[0m\u001b[0;34m[\u001b[0m\u001b[0;36m0\u001b[0m\u001b[0;34m]\u001b[0m\u001b[0;34m[\u001b[0m\u001b[0;34m-\u001b[0m\u001b[0;36m5\u001b[0m\u001b[0;34m]\u001b[0m \u001b[0;34m!=\u001b[0m \u001b[0;34m\"1\"\u001b[0m\u001b[0;34m)\u001b[0m \u001b[0;32mor\u001b[0m \u001b[0;34m(\u001b[0m\u001b[0minfile_names\u001b[0m\u001b[0;34m[\u001b[0m\u001b[0;36m2\u001b[0m\u001b[0;34m]\u001b[0m\u001b[0;34m[\u001b[0m\u001b[0;34m-\u001b[0m\u001b[0;36m5\u001b[0m\u001b[0;34m]\u001b[0m \u001b[0;34m!=\u001b[0m \u001b[0;34m\"3\"\u001b[0m\u001b[0;34m)\u001b[0m\u001b[0;34m:\u001b[0m\u001b[0;34m\u001b[0m\u001b[0;34m\u001b[0m\u001b[0m\n\u001b[0m\u001b[1;32m    230\u001b[0m         \u001b[0;32mraise\u001b[0m \u001b[0mException\u001b[0m\u001b[0;34m(\u001b[0m\u001b[0;34m\"HA-input signal error: channel mismatch!\"\u001b[0m\u001b[0;34m)\u001b[0m\u001b[0;34m\u001b[0m\u001b[0;34m\u001b[0m\u001b[0m\n\u001b[1;32m    231\u001b[0m \u001b[0;34m\u001b[0m\u001b[0m\n",
      "\u001b[0;31mIndexError\u001b[0m: list index out of range"
     ]
    }
   ],
   "source": [
    "# $PYTHON_BIN \"$CLARITY_ROOT\"/scripts/run_HA_processing.py  --num_channels \"$num_channels\" \"$CLARITY_DATA\"/metadata/scenes.\"$dataset\".json \"$CLARITY_DATA\"/metadata/listeners.json \"$CLARITY_DATA\"/metadata/scenes_listeners.\"$dataset\".json \"$CLARITY_DATA\"/\"$dataset\"/scenes \"$CLARITY_DATA\"/\"$dataset\"/scenes\n",
    "CLARITY_ROOT = \"/home/paulkendrick/clarity_CEC1\"\n",
    "CLARITY_DATA = \"/home/paulkendrick/clarity_CEC1/data/clarity_data\"\n",
    "dataset = \"dev\"\n",
    "scene_list_filename = f\"{CLARITY_DATA}/metadata/scenes.{dataset}.json\"\n",
    "listener_filename = f\"{CLARITY_DATA}/metadata/listeners.json\"\n",
    "scenes_listeners_filename = f\"{CLARITY_DATA}/metadata/scenes_listeners.{dataset}.json\"\n",
    "input_path = f\"{CLARITY_DATA}/{dataset}/scenes\"\n",
    "output_path = \"/tmp/clarity_test\"\n",
    "channels = 1\n",
    "import argparse\n",
    "import json\n",
    "from tqdm import tqdm\n",
    "import sys\n",
    "\n",
    "from clarity_core.config import CONFIG\n",
    "\n",
    "sys.path.append(r\"../projects/GHA\")\n",
    "from GHA import GHAHearingAid as HearingAid\n",
    "\n",
    "if __name__ == \"__main__\":\n",
    "#     parser = argparse.ArgumentParser()\n",
    "#     parser.add_argument(\"--dry_run\", action=\"store_true\", help=\"perform dry run only\")\n",
    "#     parser.add_argument(\n",
    "#         \"--num_channels\",\n",
    "#         nargs=\"?\",\n",
    "#         type=int,\n",
    "#         default=1,\n",
    "#         help=\"number of HA channels [default: 1]\",\n",
    "#     )\n",
    "#     parser.add_argument(\"scene_list_filename\", help=\"json file containing scene data\")\n",
    "#     parser.add_argument(\"listener_filename\", help=\"json file containing listener data\")\n",
    "#     parser.add_argument(\n",
    "#         \"scenes_listeners_filename\",\n",
    "#         help=\"json file containing scenes to listeners mapping\",\n",
    "#     )\n",
    "\n",
    "#     parser.add_argument(\"input_path\", help=\"input file names\")\n",
    "#     parser.add_argument(\"output_path\", help=\"path to output data\")\n",
    "#     args = parser.parse_args()\n",
    "\n",
    "#     channels = args.num_channels\n",
    "\n",
    "    scene_list = json.load(open(scene_list_filename, \"r\"))\n",
    "    listeners = json.load(open(listener_filename, \"r\"))\n",
    "    scenes_listeners = json.load(open(scenes_listeners_filename, \"r\"))\n",
    "\n",
    "    hearing_aid = HearingAid(fs=CONFIG.fs, channels=channels)\n",
    "\n",
    "    for scene in tqdm(scene_list):\n",
    "        for listener_name in scenes_listeners[scene[\"scene\"]]:\n",
    "            listener = listeners[listener_name]\n",
    "            hearing_aid.set_listener(listener)\n",
    "            hearing_aid.process_files(\n",
    "                infile_names=[\n",
    "                    f\"{input_path}/{scene['scene']}_mixed_CH{ch}.wav\"\n",
    "                    for ch in range(1, channels + 1)\n",
    "                ],\n",
    "                outfile_name=(\n",
    "                    f\"{output_path}/{scene['scene']}_{listener['name']}_HA-output.wav\"\n",
    "                ),\n",
    "            )\n"
   ]
  },
  {
   "cell_type": "code",
   "execution_count": 5,
   "id": "8617bb5f",
   "metadata": {},
   "outputs": [
    {
     "name": "stdout",
     "output_type": "stream",
     "text": [
      "\u001b[0m\u001b[00;36mS06001_L0008_HA-output.wav\u001b[0m  \u001b[00;36mS06001_mixed_CH1.wav\u001b[0m\r\n",
      "\u001b[00;36mS06001_L0064_HA-output.wav\u001b[0m  \u001b[00;36mS06001_mixed_CH2.wav\u001b[0m\r\n",
      "\u001b[00;36mS06001_L0068_HA-output.wav\u001b[0m  \u001b[00;36mS06001_mixed_CH3.wav\u001b[0m\r\n",
      "\u001b[00;36mS06001_interferer.wav\u001b[0m       \u001b[00;36mS06001_target.wav\u001b[0m\r\n",
      "\u001b[00;36mS06001_interferer_CH0.wav\u001b[0m   \u001b[00;36mS06001_target_CH0.wav\u001b[0m\r\n",
      "\u001b[00;36mS06001_interferer_CH1.wav\u001b[0m   \u001b[00;36mS06001_target_CH1.wav\u001b[0m\r\n",
      "\u001b[00;36mS06001_interferer_CH2.wav\u001b[0m   \u001b[00;36mS06001_target_CH2.wav\u001b[0m\r\n",
      "\u001b[00;36mS06001_interferer_CH3.wav\u001b[0m   \u001b[00;36mS06001_target_CH3.wav\u001b[0m\r\n",
      "\u001b[00;36mS06001_mixed_CH0.wav\u001b[0m        \u001b[00;36mS06001_target_anechoic.wav\u001b[0m\r\n"
     ]
    }
   ],
   "source": [
    "ls /home/paulkendrick/clarity_CEC1/data/clarity_data/dev/scenes\n"
   ]
  },
  {
   "cell_type": "code",
   "execution_count": 3,
   "id": "088d534d",
   "metadata": {},
   "outputs": [
    {
     "data": {
      "text/plain": [
       "'/home/paulkendrick/clarity_CEC1/data/clarity_data/dev/scenes'"
      ]
     },
     "execution_count": 3,
     "metadata": {},
     "output_type": "execute_result"
    }
   ],
   "source": [
    "input_path"
   ]
  },
  {
   "cell_type": "code",
   "execution_count": 6,
   "id": "ec2bfb4b",
   "metadata": {},
   "outputs": [
    {
     "data": {
      "text/plain": [
       "['/home/paulkendrick/clarity_CEC1/data/clarity_data/dev/scenes/S06001_mixed_CH1.wav']"
      ]
     },
     "execution_count": 6,
     "metadata": {},
     "output_type": "execute_result"
    }
   ],
   "source": [
    "[\n",
    "                    f\"{input_path}/{scene['scene']}_mixed_CH{ch}.wav\"\n",
    "                    for ch in range(1, channels + 1)\n",
    "                ]"
   ]
  },
  {
   "cell_type": "code",
   "execution_count": 7,
   "id": "ebf89953",
   "metadata": {},
   "outputs": [
    {
     "name": "stdout",
     "output_type": "stream",
     "text": [
      "\u001b[0m\u001b[00;36mS06001_L0008_HA-output.wav\u001b[0m  \u001b[00;36mS06001_mixed_CH1.wav\u001b[0m\r\n",
      "\u001b[00;36mS06001_L0064_HA-output.wav\u001b[0m  \u001b[00;36mS06001_mixed_CH2.wav\u001b[0m\r\n",
      "\u001b[00;36mS06001_L0068_HA-output.wav\u001b[0m  \u001b[00;36mS06001_mixed_CH3.wav\u001b[0m\r\n",
      "\u001b[00;36mS06001_interferer.wav\u001b[0m       \u001b[00;36mS06001_target.wav\u001b[0m\r\n",
      "\u001b[00;36mS06001_interferer_CH0.wav\u001b[0m   \u001b[00;36mS06001_target_CH0.wav\u001b[0m\r\n",
      "\u001b[00;36mS06001_interferer_CH1.wav\u001b[0m   \u001b[00;36mS06001_target_CH1.wav\u001b[0m\r\n",
      "\u001b[00;36mS06001_interferer_CH2.wav\u001b[0m   \u001b[00;36mS06001_target_CH2.wav\u001b[0m\r\n",
      "\u001b[00;36mS06001_interferer_CH3.wav\u001b[0m   \u001b[00;36mS06001_target_CH3.wav\u001b[0m\r\n",
      "\u001b[00;36mS06001_mixed_CH0.wav\u001b[0m        \u001b[00;36mS06001_target_anechoic.wav\u001b[0m\r\n"
     ]
    }
   ],
   "source": [
    "ls /home/paulkendrick/clarity_CEC1/data/clarity_data/dev/scenes/"
   ]
  },
  {
   "cell_type": "code",
   "execution_count": 9,
   "id": "8fc3bcae",
   "metadata": {},
   "outputs": [],
   "source": [
    "hearing_aid.set_listener(listener)"
   ]
  },
  {
   "cell_type": "code",
   "execution_count": 10,
   "id": "7d8b31ad",
   "metadata": {},
   "outputs": [
    {
     "data": {
      "text/plain": [
       "['/home/paulkendrick/clarity_CEC1/data/clarity_data/dev/scenes/S06001_mixed_CH1.wav']"
      ]
     },
     "execution_count": 10,
     "metadata": {},
     "output_type": "execute_result"
    }
   ],
   "source": [
    "[\n",
    "                    f\"{input_path}/{scene['scene']}_mixed_CH{ch}.wav\"\n",
    "                    for ch in range(1, channels + 1)\n",
    "                ]"
   ]
  },
  {
   "cell_type": "code",
   "execution_count": 11,
   "id": "80da578d",
   "metadata": {},
   "outputs": [
    {
     "data": {
      "text/plain": [
       "'tmp/clarity_test/S06001_L0064_HA-output.wav'"
      ]
     },
     "execution_count": 11,
     "metadata": {},
     "output_type": "execute_result"
    }
   ],
   "source": [
    "f\"{output_path}/{scene['scene']}_{listener['name']}_HA-output.wav\""
   ]
  },
  {
   "cell_type": "code",
   "execution_count": 15,
   "id": "09b29a09",
   "metadata": {},
   "outputs": [
    {
     "name": "stdout",
     "output_type": "stream",
     "text": [
      "\u001b[0m\u001b[00;36mS06001_L0008_HA-output.wav\u001b[0m  \u001b[00;36mS06001_L0068_HA-output.wav\u001b[0m\r\n",
      "\u001b[00;36mS06001_L0064_HA-output.wav\u001b[0m\r\n"
     ]
    }
   ],
   "source": [
    "ls /tmp/clarity_test"
   ]
  },
  {
   "cell_type": "code",
   "execution_count": null,
   "id": "d490d75e",
   "metadata": {},
   "outputs": [],
   "source": []
  }
 ],
 "metadata": {
  "kernelspec": {
   "display_name": "Clarity venv",
   "language": "python",
   "name": "env"
  },
  "language_info": {
   "codemirror_mode": {
    "name": "ipython",
    "version": 3
   },
   "file_extension": ".py",
   "mimetype": "text/x-python",
   "name": "python",
   "nbconvert_exporter": "python",
   "pygments_lexer": "ipython3",
   "version": "3.6.9"
  }
 },
 "nbformat": 4,
 "nbformat_minor": 5
}
